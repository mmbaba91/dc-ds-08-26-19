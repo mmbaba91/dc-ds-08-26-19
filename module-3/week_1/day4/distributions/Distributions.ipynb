{
 "cells": [
  {
   "cell_type": "markdown",
   "metadata": {},
   "source": [
    "### Objectives\n",
    "\n",
    "- Random Variables\n",
    "\n",
    "- Probability Mass Functions\n",
    "\n",
    "- Distributions\n",
    "\n",
    "- Cumulative Distribution Functions\n",
    "\n",
    "- Some Important Distributions\n",
    "\n",
    "    - Binomial\n",
    "    - Normal\n",
    "\n",
    "\n",
    "\n",
    "### Random Variables\n",
    "\n",
    "Consider an experiment of drawing two cards from a deck of cards: Let's try to write the sample space for this event:"
   ]
  },
  {
   "cell_type": "code",
   "execution_count": 2,
   "metadata": {},
   "outputs": [],
   "source": [
    "import itertools\n",
    "import numpy as np\n",
    "suits = ['diamonds', 'clubs', 'hearts', 'spades']\n",
    "\n",
    "runs = ['A', '2', '3', '4', '5', '6', '7', '8', '9', '10', 'J', 'Q', 'K']\n",
    "\n",
    "cards = list(itertools.product(suits, runs))"
   ]
  },
  {
   "cell_type": "code",
   "execution_count": 3,
   "metadata": {},
   "outputs": [],
   "source": [
    "sample_space = list(itertools.combinations(cards,2))"
   ]
  },
  {
   "cell_type": "markdown",
   "metadata": {},
   "source": [
    "Let's us define a function $X: S \\to \\mathbb{N}$ on this sample space such that when X(card1, card2) = card1 + card2. \n",
    "\n",
    "(J = 11, Q = 12, K=13, A = 1)\n",
    "\n",
    "Let's write this function in code:\n"
   ]
  },
  {
   "cell_type": "code",
   "execution_count": 4,
   "metadata": {},
   "outputs": [
    {
     "name": "stdout",
     "output_type": "stream",
     "text": [
      "(('clubs', 'Q'), ('hearts', '4'))\n"
     ]
    },
    {
     "data": {
      "text/plain": [
       "16"
      ]
     },
     "execution_count": 4,
     "metadata": {},
     "output_type": "execute_result"
    }
   ],
   "source": [
    "royal_num = {'A':1, 'J':11, 'Q':12, 'K':13}\n",
    "def random_variable(two_cards):\n",
    "    num1 = 0\n",
    "    num2 = 0\n",
    "    card1 = two_cards[0]\n",
    "    card2 = two_cards[1]\n",
    "    if card1[1] in royal_num.keys():\n",
    "        num1 = royal_num[card1[1]]\n",
    "    else:\n",
    "        num1 = int(card1[1])\n",
    "    if card2[1] in royal_num.keys():\n",
    "        num2 = royal_num[card2[1]]\n",
    "    else:\n",
    "        num2 = int(card2[1])\n",
    "    return num1 + num2\n",
    "card_index = np.random.choice(range(1300),1)[0]\n",
    "print(sample_space[card_index])\n",
    "random_variable(sample_space[card_index])"
   ]
  },
  {
   "cell_type": "code",
   "execution_count": 5,
   "metadata": {},
   "outputs": [],
   "source": [
    "all_values = [random_variable(a) for a in sample_space ]"
   ]
  },
  {
   "cell_type": "code",
   "execution_count": 6,
   "metadata": {},
   "outputs": [
    {
     "data": {
      "text/plain": [
       "(array([ 2,  3,  4,  5,  6,  7,  8,  9, 10, 11, 12, 13, 14, 15, 16, 17, 18,\n",
       "        19, 20, 21, 22, 23, 24, 25, 26]),\n",
       " array([  6,  16,  22,  32,  38,  48,  54,  64,  70,  80,  86,  96, 102,\n",
       "         96,  86,  80,  70,  64,  54,  48,  38,  32,  22,  16,   6]))"
      ]
     },
     "execution_count": 6,
     "metadata": {},
     "output_type": "execute_result"
    }
   ],
   "source": [
    "np.unique(all_values, return_counts=True)"
   ]
  },
  {
   "cell_type": "code",
   "execution_count": 7,
   "metadata": {},
   "outputs": [
    {
     "data": {
      "image/png": "[encoded data removed]",
      "text/plain": [
       "<Figure size 432x288 with 1 Axes>"
      ]
     },
     "metadata": {
      "needs_background": "light"
     },
     "output_type": "display_data"
    }
   ],
   "source": [
    "import matplotlib.pyplot as plt\n",
    "%matplotlib inline\n",
    "n, bins, patches = plt.hist(x=all_values, bins=range(2,28), color='#0504aa',\n",
    "                            alpha=0.5, rwidth= 0.8,align = 'left' )\n",
    "plt.grid(axis='y', alpha=0.2)\n",
    "plt.xlabel('Value')\n",
    "plt.ylabel('Frequency')\n",
    "plt.xticks(range(2,28,2))\n",
    "plt.title('Frequencies of the values of random variables')\n",
    "maxfreq = n.max()\n",
    "# Set a clean upper y-axis limit.\n",
    "plt.ylim(ymax=np.ceil(maxfreq / 10) * 10 if maxfreq % 10 else maxfreq + 10)\n",
    "\n",
    "plt.show()"
   ]
  },
  {
   "cell_type": "markdown",
   "metadata": {},
   "source": [
    "#### Probability mass functions\n",
    "\n",
    "Q: Can we find the probabilities corresponding to these values?"
   ]
  },
  {
   "cell_type": "code",
   "execution_count": 8,
   "metadata": {},
   "outputs": [],
   "source": [
    "def mass_function(x):\n",
    "    outcomes = []\n",
    "    for i in sample_space:\n",
    "        if random_variable(i) == x:\n",
    "            outcomes.append(i)\n",
    "    \n",
    "    return len(outcomes)/len(sample_space)"
   ]
  },
  {
   "cell_type": "code",
   "execution_count": 9,
   "metadata": {},
   "outputs": [],
   "source": [
    "l = [mass_function(k) for k in all_values ]"
   ]
  },
  {
   "cell_type": "code",
   "execution_count": 10,
   "metadata": {},
   "outputs": [
    {
     "data": {
      "image/png": "[encoded data removed]",
      "text/plain": [
       "<Figure size 432x288 with 1 Axes>"
      ]
     },
     "metadata": {
      "needs_background": "light"
     },
     "output_type": "display_data"
    }
   ],
   "source": [
    "plt.bar(all_values,l)\n",
    "\n",
    "plt.xticks(range(2,28,2))\n",
    "\n",
    "plt.show()"
   ]
  },
  {
   "cell_type": "code",
   "execution_count": 11,
   "metadata": {},
   "outputs": [
    {
     "data": {
      "image/png": "[encoded data removed]",
      "text/plain": [
       "<Figure size 432x288 with 1 Axes>"
      ]
     },
     "metadata": {
      "needs_background": "light"
     },
     "output_type": "display_data"
    }
   ],
   "source": [
    "import matplotlib.pyplot as plt\n",
    "%matplotlib inline\n",
    "n, bins, patches = plt.hist(x=all_values, bins=range(2,28), color='#0504aa',\n",
    "                            alpha=0.5, rwidth= 0.8,align = 'left' , density = True)\n",
    "plt.grid(axis='y', alpha=0.2)\n",
    "plt.xlabel('Value')\n",
    "plt.ylabel('Frequency')\n",
    "plt.xticks(range(2,28,2))\n",
    "plt.title('Probability mass function')\n",
    "maxfreq = n.max()\n",
    "# Set a clean upper y-axis limit.\n",
    "# plt.ylim(ymax=np.ceil(maxfreq / 10) * 10 if maxfreq % 10 else maxfreq + 10)\n",
    "\n",
    "plt.show()"
   ]
  },
  {
   "cell_type": "code",
   "execution_count": 12,
   "metadata": {},
   "outputs": [
    {
     "data": {
      "image/png": "[encoded data removed]",
      "text/plain": [
       "<Figure size 432x288 with 1 Axes>"
      ]
     },
     "metadata": {
      "needs_background": "light"
     },
     "output_type": "display_data"
    }
   ],
   "source": [
    "x = np.unique(all_values, return_counts=True)[0]\n",
    "y = np.cumsum(np.unique(all_values, return_counts=True)[1])/len(all_values)\n",
    "plt.plot(x,y, marker = '.',linestyle = 'none')\n",
    "plt.show()"
   ]
  }
 ],
 "metadata": {
  "kernelspec": {
   "display_name": "Python 3",
   "language": "python",
   "name": "python3"
  },
  "language_info": {
   "codemirror_mode": {
    "name": "ipython",
    "version": 3
   },
   "file_extension": ".py",
   "mimetype": "text/x-python",
   "name": "python",
   "nbconvert_exporter": "python",
   "pygments_lexer": "ipython3",
   "version": "3.7.3"
  }
 },
 "nbformat": 4,
 "nbformat_minor": 2
}
