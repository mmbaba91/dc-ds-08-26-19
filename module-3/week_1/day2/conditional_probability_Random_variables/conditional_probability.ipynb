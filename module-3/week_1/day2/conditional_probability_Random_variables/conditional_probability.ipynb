{
 "cells": [
  {
   "cell_type": "markdown",
   "metadata": {},
   "source": [
    "## Objectives\n",
    "\n",
    "- Describe Conditional probability\n",
    "\n",
    "- Understand Bayes's theorem and its applications\n",
    "\n",
    "- Random Variables\n",
    "\n",
    "- Probability Mass Functions\n",
    "\n",
    "## Resources\n",
    "\n",
    " - [PennState Introduction to Probability](https://newonlinecourses.science.psu.edu/stat414/node/5/)\n",
    " \n",
    " - [PennState - Discrete Variables](https://newonlinecourses.science.psu.edu/stat414/node/60/)\n",
    " \n",
    " - [ThinkStats](http://greenteapress.com/thinkstats2/thinkstats2.pdf)\n",
    "\n",
    " - [Dictionary Definition of Random Variables and Distributions](https://www.britannica.com/science/statistics/Random-variables-and-probability-distributions)\n",
    " \n",
    "## Independent, Disjoint and Dependent Events\n",
    "\n",
    "We say  events $A$ and $B$ are independent when, the occurrence of $A$ has no effect on whether $B$ will occur (or not).\n",
    "\n",
    "We can show in a minute that this is equivalent to say:\n",
    "\n",
    "$$ P(A \\cap B) = P(A)P(B) $$\n",
    "### Conditional Probability of A Given B\n",
    "The probability of A given that the event B already happened is:\n",
    "$$ P(A | B) = \\frac{P(A\\cap B)}{P(B)}$$\n",
    "\n",
    "__Bayes's Theorem__, \n",
    "\n",
    "$$ P(A | B) = \\frac{P(B|A)P(A)}{P(B)}$$\n",
    "\n",
    "__Example__\n",
    "\n",
    "Assume that:\n",
    "\n",
    "- Each child is equally likely to be a boy\n",
    "\n",
    "- The gender of the second child is independent of the gender of the first child.\n",
    "\n",
    "Q: What is the probability of the event 'both children are girls' given that 'the older child is a girl'?\n",
    "\n",
    "Your answer here: \n",
    "\n",
    "\n",
    "Q: Consider a different case: What is the probability of the event 'both children are girls' given that 'at least one of the children is a girl'?\n",
    "\n"
   ]
  },
  {
   "cell_type": "code",
   "execution_count": 1,
   "metadata": {},
   "outputs": [],
   "source": [
    "## Let's simulate the problem above\n",
    "\n",
    "\n",
    "import enum, random\n",
    "\n",
    "class Kid(enum.Enum):\n",
    "    BOY = 0\n",
    "    GIRL = 1\n",
    "    \n",
    "def random_kid():\n",
    "    return random.choice([Kid.BOY, Kid.GIRL])\n",
    "\n",
    "both_girls = 0\n",
    "\n",
    "either_girl = 0 \n",
    "\n",
    "\n",
    "older_girl = 0\n",
    "\n",
    "\n",
    "random.seed(0)\n",
    "\n",
    "for _ in range(10000):\n",
    "    younger = random_kid()\n",
    "    older = random_kid()\n",
    "    if older == Kid.GIRL:\n",
    "        older_girl += 1\n",
    "    if older == Kid.GIRL and younger == Kid.GIRL:\n",
    "        both_girls +=1\n",
    "    if older == Kid.GIRL or younger == Kid.GIRL:\n",
    "        either_girl += 1"
   ]
  },
  {
   "cell_type": "code",
   "execution_count": 2,
   "metadata": {},
   "outputs": [
    {
     "name": "stdout",
     "output_type": "stream",
     "text": [
      "P(Both | Older):  0.5007089325501317\n"
     ]
    }
   ],
   "source": [
    "print('P(Both | Older): ', both_girls/older_girl)"
   ]
  },
  {
   "cell_type": "code",
   "execution_count": 3,
   "metadata": {},
   "outputs": [
    {
     "name": "stdout",
     "output_type": "stream",
     "text": [
      "P(Both | Either):  0.3311897106109325\n"
     ]
    }
   ],
   "source": [
    "print('P(Both | Either): ', both_girls/either_girl)"
   ]
  },
  {
   "cell_type": "markdown",
   "metadata": {},
   "source": [
    "#### Example:\n",
    "Let’s say a medical test is 99 percent reliable. That is, 99 out of 100 people who have cancer will test positive, and 99 out of 100 who are healthy will test negative. That’s still a terrific test. If your test is positive, how probable is it that you have cancer?\n",
    "\n",
    "\n",
    "Your Answer is here:\n",
    "\n",
    "\n",
    "__Note__ There are still lot's of details about probability which we couldn't discuss because of the time constraints. So please make sure that you read the learn.co materials and reading assignments very carefully. \n",
    "\n",
    "\n",
    "\n",
    "### Random Variables\n",
    "\n",
    "Recall that to be able to define a probability we need a triple $(\\Omega, \\mathcal{E}, P)$ where $\\Omega$ is the sample space, $\\mathcal{E}$ is the set of all well-defined events and $P$ is the function that assigns a probability for each events. \n",
    "\n",
    "In this context, a random variable $X$ is a function defined on $\\Omega$.\n",
    "\n",
    "__Examples__ Experiment is rolling a single die and X is just the number on the dice.\n",
    "\n",
    "__Examples__ Experiment is rolling a single die and X is 1 if die shows 4,5 and X = 0 otherwise.\n",
    "\n",
    "__Examples__ Experiment is tossing a coin and X = 1 if it is Head and X =-1 if it is Tail.\n",
    "\n",
    "__Examples__ Experiment is tossing a coin and X = 1 if it is Head or Tail.\n",
    "\n",
    "__Examples__ Experiment is rolling two dice and X is the sum of the numbers on the dice.\n",
    "\n",
    "__Examples__ Experiment is tossing a coin and rolling a die. X takes 0 value whenever Tail shows up and if the coin shows Head then X takes the value on the die.\n",
    "\n",
    "__Examples__\n",
    "\n",
    "Suppose we pick randomly (with replacement) three people from the class. They either nats (represent with N) fan or some other teams (O). Let's also assume that $P(N) = 0.8$ and $P(O) = 0.2$.\n",
    "\n",
    "S = {}\n",
    "\n",
    "\n",
    "Let's define a random variable X as the number of Nats fan in the group of three people.\n",
    "\n",
    "$$ X:  S \\to \\mathbb{R}$$\n",
    "\n",
    "such that\n",
    "\n",
    "$X(\\{NNN\\}) = 3$, $X(\\{NON\\}) = 2$, $X(\\{OOO\\}) = 0$, etc\n",
    "\n",
    "We say that X is a discrete random variable on $S$. In this case, the distribution of $X$ describes how the probabilities are distributed over the values of the random variable.\n",
    "\n",
    "$P(X =1):= P(\\text{all outcomes that X takes the value 1})$ \n",
    ".\n",
    ".\n",
    ".\n",
    "write possible values of X and the corresponding set in $\\Omega$\n",
    "\n",
    "### Probability Mass Functions\n",
    "\n",
    "\n",
    "<img src=\"img/probability_mass_function.png\"\n",
    "     alt=\"Dice\"\n",
    "     style=\"float: center; margin-center: 30px;\" />\n",
    "     \n",
    "     \n",
    "__Example___ Consider the experiment that we throw 5 fair coins and a random variable X is defined as the number of Heads. Write a code that shows us the probability mass function for this random variable.\n",
    "\n",
    "[Code for probability mass function for the case of dice](https://hadrienj.github.io/posts/Probability-Mass-and-Density-Functions/)"
   ]
  },
  {
   "cell_type": "code",
   "execution_count": null,
   "metadata": {},
   "outputs": [],
   "source": []
  }
 ],
 "metadata": {
  "kernelspec": {
   "display_name": "Python 3",
   "language": "python",
   "name": "python3"
  },
  "language_info": {
   "codemirror_mode": {
    "name": "ipython",
    "version": 3
   },
   "file_extension": ".py",
   "mimetype": "text/x-python",
   "name": "python",
   "nbconvert_exporter": "python",
   "pygments_lexer": "ipython3",
   "version": "3.7.3"
  }
 },
 "nbformat": 4,
 "nbformat_minor": 2
}
