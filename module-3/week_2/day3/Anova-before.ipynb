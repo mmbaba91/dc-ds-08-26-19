{
 "cells": [
  {
   "cell_type": "markdown",
   "metadata": {},
   "source": [
    "# ANOVA \n",
    "\n",
    "## Introduction\n",
    "\n",
    "ANOVA (Analysis of Variance) is a method for generalizing statistical tests to multiple groups. As you'll see, ANOVA  analyses the overall variance of a dataset by partitioning the total sum of square of deviations (from the mean) into sum of squares for each of these groups and sum of squares for error. By comparing statistical test for multiple groups, it can serve as a useful alternative to the $t$-tests you've encountered thus far, when you wish to test multiple factors simultaneously.\n",
    "\n",
    "## Objectives\n",
    "\n",
    "You will be able to:\n",
    "* Use ANOVA for testing multiple pairwise comparisons\n",
    "* Understand and explain the methodology behind ANOVA tests\n",
    "\n",
    "### Analysis of Variance:\n",
    "\n",
    "- The main problem is: Can we determine whether a set of population means are the same or different from samples from these populations.\n",
    "\n",
    "- Natural Question: Hint: What other test we were using for similar procedure - why can't we use the same (or modified version) here? (Let's count if we have 10 different population how many tests we should do in total?)\n",
    "\n",
    "- Even if we were able to use above method, what happens to the significance levels?\n",
    "\n",
    "The main idea: We will compare variances within the group with the total variance to be able to say that whether population means are equal or not.\n",
    "\n",
    "__Wait!!__ Why use the variance to compare the means?\n",
    "\n",
    "Let's check this from a scenerio!!"
   ]
  },
  {
   "cell_type": "code",
   "execution_count": null,
   "metadata": {},
   "outputs": [],
   "source": [
    "import numpy as np\n",
    "\n",
    "import pandas as pd\n",
    "\n",
    "import matplotlib.pyplot as plt\n",
    "\n"
   ]
  },
  {
   "cell_type": "code",
   "execution_count": null,
   "metadata": {},
   "outputs": [],
   "source": [
    "## case1: create 3 sets with means 6,10,15 of size 20 with small variances name them sample1, sample2, sample3\n",
    "#\n",
    "#\n",
    "#\n",
    "#\n",
    "## case2: Create 3 sets with means 6,10,15 of size 20 with bigger variances\n",
    "\n",
    "sample4 = \n",
    "\n",
    "sample5 = \n",
    "\n",
    "sample6 =\n",
    "\n",
    "## put these samples in a dataframe and relabel columns\n",
    "df = \n",
    "df.head()"
   ]
  },
  {
   "cell_type": "code",
   "execution_count": null,
   "metadata": {},
   "outputs": [],
   "source": [
    "## plot the data using boxplots - also mark the means\n"
   ]
  },
  {
   "cell_type": "code",
   "execution_count": null,
   "metadata": {},
   "outputs": [],
   "source": [
    "## lets print the means of the samples\n",
    "\n",
    "print('Means of the samples are: ', sample1.mean(), \n",
    "      sample2.mean(),\n",
    "      sample3.mean(), '\\n',\n",
    "      sample4.mean(),\n",
    "      sample5.mean(),\n",
    "      sample6.mean())"
   ]
  },
  {
   "cell_type": "markdown",
   "metadata": {},
   "source": [
    "Note that here even though the variations of $\\{s_1, s_2, s_3\\}$ equals to the variations of the means in $\\{s_4, s_5, s_6\\}$ we can see this as a stronger evidence to argue that the population means are different in the first group.\n",
    "\n",
    "__Summary__ ANOVA: comparison of the variance among the means of the populations to the variance among sample observations within the individual populations.\n",
    "\n",
    "### Notation\n",
    "\n",
    "- $t$: total number of populations\n",
    "\n",
    "- $n_{i}$ number of observations within the sample $i$ drawn from the population $i$.\n",
    "\n",
    "- $y_{ij}$: the measurement for the $j$th observation from the $i$th sample.\n",
    "\n",
    "- $\\mu_{i}$ is the mean for the $i$th population.\n",
    "\n",
    "__observations__\n",
    "\n",
    "$n = \\sum\\limits_{i} n_{i}$ is the total number of observations\n",
    "\n",
    "### Hypotheses\n",
    "\n",
    "-  $H_{0}: \\mu_{1} = \\mu_{2} = \\cdots = \\mu_{t}$ \n",
    "\n",
    "- $H_{a}$: at least one of the equality is not satisfied"
   ]
  },
  {
   "cell_type": "markdown",
   "metadata": {},
   "source": [
    "## Experiment with F-statistics\n",
    "\n",
    "__step1__\n",
    "\n",
    "- Choose a sample of 20 from a normal distribution with $\\mu=20$ and $\\sigma=2$ and repeat this process 1000 times record variance each time\n",
    "\n",
    "- Repeat the same process but this time with $\\mu = 20$, $\\sigma = 2$"
   ]
  },
  {
   "cell_type": "code",
   "execution_count": null,
   "metadata": {},
   "outputs": [],
   "source": []
  },
  {
   "cell_type": "markdown",
   "metadata": {},
   "source": [
    "__step2__\n",
    "\n",
    "Look at the ratio of the variances and plot it."
   ]
  },
  {
   "cell_type": "code",
   "execution_count": null,
   "metadata": {},
   "outputs": [],
   "source": []
  },
  {
   "cell_type": "code",
   "execution_count": null,
   "metadata": {},
   "outputs": [],
   "source": [
    "## An example of F statistics\n",
    "\n",
    "fig, ax = plt.subplots(1, 1)\n",
    "dfn, dfd = 19,19\n",
    "\n",
    "\n",
    "x = np.linspace(f.ppf(0.01, dfn, dfd),\n",
    "                f.ppf(0.99, dfn, dfd), 100)\n",
    "\n",
    "ax.plot(x, f.pdf(x, dfn, dfd),\n",
    "       'r-', lw=5, alpha=0.6, label='f pdf')\n",
    "\n",
    "rv = f(dfn, dfd)\n",
    "ax.plot(x, rv.pdf(x), 'k-', lw=2, label='frozen pdf')\n",
    "\n",
    "ax.legend(loc='best', frameon=False)"
   ]
  },
  {
   "cell_type": "markdown",
   "metadata": {},
   "source": [
    "## ANOVA"
   ]
  },
  {
   "cell_type": "code",
   "execution_count": null,
   "metadata": {},
   "outputs": [],
   "source": [
    "## let's create a data set first\n",
    "\n",
    "\n",
    "## sample sizes for different groups\n",
    "n1 =20\n",
    "n2=20\n",
    "n3 =20\n",
    "n4 = 20\n",
    "\n",
    "## number of groups\n",
    "t = 4"
   ]
  },
  {
   "cell_type": "code",
   "execution_count": null,
   "metadata": {},
   "outputs": [],
   "source": [
    "x1 = np.random.normal(loc = 950, scale = 100, size = n1)\n",
    "\n",
    "x2 = np.random.normal(loc = 928, scale = np.sqrt(3800), size = n2)\n",
    "\n",
    "x3 = np.random.normal(loc = 938, scale = np.sqrt(13617), size = n3)\n",
    "\n",
    "x4 = np.random.normal(loc = 1116, scale = np.sqrt(23000), size = n4)\n",
    "\n",
    "df = pd.DataFrame(data = np.stack([x1, x2,x3,x4], axis = 1), columns= ['s1', 's2', 's3', 's4'])"
   ]
  },
  {
   "cell_type": "code",
   "execution_count": null,
   "metadata": {},
   "outputs": [],
   "source": [
    "df.boxplot(showmeans = True)\n",
    "\n",
    "plt.show()"
   ]
  },
  {
   "cell_type": "markdown",
   "metadata": {},
   "source": [
    "## Hypothesis\n",
    "\n",
    "$H_{0}$: $\\mu_{1} = \\mu_{2} = \\mu_{3} = \\mu_{4}$\n",
    "\n",
    "$H_{a}$: not all means are equal."
   ]
  },
  {
   "cell_type": "code",
   "execution_count": null,
   "metadata": {},
   "outputs": [],
   "source": [
    "## for the first group\n",
    "\n",
    "y1_bar = x1.mean()\n",
    "\n",
    "ss1 = x1.var(ddof =1)\n",
    "\n",
    "## for the second group\n",
    "\n",
    "y2_bar = x2.mean()\n",
    "\n",
    "ss2 = x2.var(ddof = 1)\n",
    "\n",
    "## for the third group\n",
    "\n",
    "y3_bar = x3.mean()\n",
    "\n",
    "ss3 = x3.var(ddof = 1)\n",
    "\n",
    "## for the last group\n",
    "\n",
    "y4_bar = x4.mean()\n",
    "\n",
    "ss4 = x4.var(ddof =1)"
   ]
  },
  {
   "cell_type": "code",
   "execution_count": null,
   "metadata": {},
   "outputs": [],
   "source": [
    "## pooled variance\n",
    "\n",
    "s_p = sum([ss1, ss2, ss3, ss4])/ (sum([n1, n2, n3, n4]) - 4)"
   ]
  },
  {
   "cell_type": "code",
   "execution_count": null,
   "metadata": {},
   "outputs": [],
   "source": [
    "y = np.sum([x1,x2,x3,x4])\n",
    "\n",
    "y_bar = y/(n1 + n2 + n3 + n4)\n",
    "\n",
    "ns_means =(n1 + n2 + n3 + n4)*(np.sum([(y1_bar - y_bar)**2, \n",
    "                                       (y2_bar - y_bar)**2,\n",
    "                                       (y3_bar - y_bar)**2, \n",
    "                                       (y4_bar - y_bar)**2 ])) / (t-1)"
   ]
  },
  {
   "cell_type": "code",
   "execution_count": null,
   "metadata": {},
   "outputs": [],
   "source": [
    "f_score = ns_means/s_p\n",
    "f_score"
   ]
  },
  {
   "cell_type": "code",
   "execution_count": null,
   "metadata": {},
   "outputs": [],
   "source": [
    "dfn = t - 1\n",
    "\n",
    "dfd = (n1 + n2 + n3 + n4)- t"
   ]
  },
  {
   "cell_type": "code",
   "execution_count": null,
   "metadata": {},
   "outputs": [],
   "source": [
    "1 - f.cdf(f_score, dfn, dfd)"
   ]
  }
 ],
 "metadata": {
  "kernelspec": {
   "display_name": "Python 3",
   "language": "python",
   "name": "python3"
  },
  "language_info": {
   "codemirror_mode": {
    "name": "ipython",
    "version": 3
   },
   "file_extension": ".py",
   "mimetype": "text/x-python",
   "name": "python",
   "nbconvert_exporter": "python",
   "pygments_lexer": "ipython3",
   "version": "3.7.3"
  }
 },
 "nbformat": 4,
 "nbformat_minor": 2
}
