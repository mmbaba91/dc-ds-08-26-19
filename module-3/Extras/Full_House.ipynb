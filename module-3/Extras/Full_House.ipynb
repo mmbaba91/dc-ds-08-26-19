{
 "cells": [
  {
   "cell_type": "code",
   "execution_count": 2,
   "metadata": {},
   "outputs": [],
   "source": [
    "### A code that creates full house\n",
    "\n",
    "import itertools\n",
    "\n",
    "import numpy as np\n",
    "\n",
    "\n",
    "suits = ['diamonds', 'clubs', 'hearts', 'spades']\n",
    "\n",
    "runs = ['A', '2', '3', '4', '5', '6', '7', '8', '9', '10', 'J', 'Q', 'K']\n",
    "\n",
    "cards = list(itertools.product(suits, runs))\n",
    "\n",
    "new_deck = []\n",
    "for i in cards:\n",
    "    new_card = i[0] + i[1]\n",
    "    new_deck.append(new_card)\n",
    "    \n",
    "def create_three_combos(num):\n",
    "    l = list(itertools.combinations(suits, 3))\n",
    "    m = [[k[0]+num, k[1]+num, k[2]+num] for k in l]\n",
    "    return m\n",
    "\n",
    "def create_two_combos(num):\n",
    "    l = list(itertools.combinations(suits, 2))\n",
    "    m = [[k[0]+num, k[1]+num] for k in l]\n",
    "    return m\n",
    "\n",
    "three_combos  = []\n",
    "two_combos = []\n",
    "for i in runs:\n",
    "    three_combos += create_three_combos(i)\n",
    "    two_combos += create_two_combos(i)\n",
    "\n",
    "full_house = []\n",
    "for i in three_combos:\n",
    "    full_house += [i + j for j in two_combos if i[0][-1] != j[0][-1]]"
   ]
  }
 ],
 "metadata": {
  "kernelspec": {
   "display_name": "Python 3",
   "language": "python",
   "name": "python3"
  },
  "language_info": {
   "codemirror_mode": {
    "name": "ipython",
    "version": 3
   },
   "file_extension": ".py",
   "mimetype": "text/x-python",
   "name": "python",
   "nbconvert_exporter": "python",
   "pygments_lexer": "ipython3",
   "version": "3.7.3"
  }
 },
 "nbformat": 4,
 "nbformat_minor": 2
}
